{
 "cells": [
  {
   "cell_type": "code",
   "execution_count": 1,
   "id": "6e8e22fa",
   "metadata": {},
   "outputs": [
    {
     "data": {
      "text/plain": [
       "'test'"
      ]
     },
     "execution_count": 1,
     "metadata": {},
     "output_type": "execute_result"
    }
   ],
   "source": [
    "test = \"test\"\n",
    "test "
   ]
  },
  {
   "cell_type": "code",
   "execution_count": null,
   "id": "3928533b",
   "metadata": {},
   "outputs": [],
   "source": [
    "def _analyze_and_report(self, lf: pl.LazyFrame, file_label: str):\n",
    "        \"\"\"\n",
    "        Analyze a LazyFrame without materializing the full dataset:\n",
    "          - count rows with any NULL\n",
    "          - drop rows with NULLs (lazy)\n",
    "          - collect dtypes (from schema)\n",
    "          - compute rows after cleaning\n",
    "        Returns: (summary_dict, cleaned_lazyframe)\n",
    "        \"\"\"\n",
    "        # Count rows that have at least one NULL\n",
    "        # any_horizontal across all columns → boolean per row → sum True's\n",
    "        missing_expr = pl.any_horizontal(pl.all().is_null()).sum().alias(\"rows_with_missing\")\n",
    "        rows_with_missing = (\n",
    "            lf.select(missing_expr)\n",
    "              .collect(streaming=True)[\"rows_with_missing\"][0]\n",
    "        )\n",
    "        logging.info(f\"{file_label}: Rows with missing values: {rows_with_missing}\")\n",
    "\n",
    "        # Drop rows with any NULLs (still lazy)\n",
    "        lf_clean = lf.drop_nulls()\n",
    "\n",
    "        # Rows after dropping NULLs\n",
    "        rows_after_clean = (\n",
    "            lf_clean.select(pl.len().alias(\"n\"))\n",
    "                    .collect(streaming=True)[\"n\"][0]\n",
    "        )\n",
    "        # Column count is known without collect\n",
    "        col_count = len(lf_clean.columns)\n",
    "\n",
    "        logging.info(f\"{file_label}: Shape after dropping missing rows: ({rows_after_clean}, {col_count})\")\n",
    "\n",
    "        # Column types from schema (no collect)\n",
    "        columns_info = {name: str(dtype) for name, dtype in lf_clean.schema.items()}\n",
    "\n",
    "        summary = {\n",
    "            \"rows_with_missing\": int(rows_with_missing),\n",
    "            \"final_shape\": [int(rows_after_clean), int(col_count)],\n",
    "            \"columns\": columns_info,\n",
    "        }\n",
    "        return summary, lf_clean"
   ]
  }
 ],
 "metadata": {
  "kernelspec": {
   "display_name": "Python 3",
   "language": "python",
   "name": "python3"
  },
  "language_info": {
   "codemirror_mode": {
    "name": "ipython",
    "version": 3
   },
   "file_extension": ".py",
   "mimetype": "text/x-python",
   "name": "python",
   "nbconvert_exporter": "python",
   "pygments_lexer": "ipython3",
   "version": "3.10.0"
  }
 },
 "nbformat": 4,
 "nbformat_minor": 5
}
